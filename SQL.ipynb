{
 "cells": [
  {
   "cell_type": "code",
   "execution_count": 6,
   "id": "b9137f37-ae56-40f8-a13a-150a66659135",
   "metadata": {},
   "outputs": [],
   "source": [
    "# Import necessary libraries\n",
    "import sqlite3\n",
    "import pandas as pd"
   ]
  },
  {
   "cell_type": "code",
   "execution_count": 7,
   "id": "2908369a-5d03-4f90-9833-2e0d2ecb371e",
   "metadata": {},
   "outputs": [],
   "source": [
    "# Create an SQLite in-memory database\n",
    "conn = sqlite3.connect(':memory:')"
   ]
  },
  {
   "cell_type": "code",
   "execution_count": 8,
   "id": "d437102e-e48d-4551-a64c-b68dee2215f0",
   "metadata": {},
   "outputs": [
    {
     "data": {
      "text/plain": [
       "<sqlite3.Cursor at 0x7f7cf7788110>"
      ]
     },
     "execution_count": 8,
     "metadata": {},
     "output_type": "execute_result"
    }
   ],
   "source": [
    "# Create a sample table called 'employees'\n",
    "conn.execute('''\n",
    "CREATE TABLE employees (\n",
    "    id INTEGER PRIMARY KEY,\n",
    "    name TEXT NOT NULL,\n",
    "    position TEXT NOT NULL,\n",
    "    salary REAL NOT NULL\n",
    ");\n",
    "''')"
   ]
  },
  {
   "cell_type": "code",
   "execution_count": 9,
   "id": "e56e706c-40a9-40f3-8de2-fe10bef001ee",
   "metadata": {},
   "outputs": [
    {
     "data": {
      "text/plain": [
       "<sqlite3.Cursor at 0x7f7cf796e110>"
      ]
     },
     "execution_count": 9,
     "metadata": {},
     "output_type": "execute_result"
    }
   ],
   "source": [
    "# Insert sample data into the 'employees' table\n",
    "conn.execute(\"INSERT INTO employees (name, position, salary) VALUES ('John Doe', 'Software Engineer', 80000);\")\n",
    "conn.execute(\"INSERT INTO employees (name, position, salary) VALUES ('Jane Smith', 'Data Scientist', 85000);\")\n",
    "conn.execute(\"INSERT INTO employees (name, position, salary) VALUES ('Mike Brown', 'Product Manager', 90000);\")\n"
   ]
  },
  {
   "cell_type": "code",
   "execution_count": 10,
   "id": "f1471362-4ab9-458c-ac0e-c7fbad5d4bad",
   "metadata": {},
   "outputs": [],
   "source": [
    "# Commit the changes\n",
    "conn.commit()"
   ]
  },
  {
   "cell_type": "code",
   "execution_count": 11,
   "id": "3411e864-7e7e-4fb6-abb9-04830d47e5e8",
   "metadata": {},
   "outputs": [],
   "source": [
    "# Define a function to run SQL queries and return the results as a DataFrame\n",
    "def run_query(query, conn):\n",
    "    return pd.read_sql_query(query, conn)"
   ]
  },
  {
   "cell_type": "code",
   "execution_count": null,
   "id": "524dc52d-13fb-4ea0-a45e-1f05fecaedcd",
   "metadata": {},
   "outputs": [],
   "source": []
  }
 ],
 "metadata": {
  "kernelspec": {
   "display_name": "anaconda-2022.05-py39",
   "language": "python",
   "name": "conda-env-anaconda-2022.05-py39-py"
  },
  "language_info": {
   "codemirror_mode": {
    "name": "ipython",
    "version": 3
   },
   "file_extension": ".py",
   "mimetype": "text/x-python",
   "name": "python",
   "nbconvert_exporter": "python",
   "pygments_lexer": "ipython3",
   "version": "3.9.12"
  }
 },
 "nbformat": 4,
 "nbformat_minor": 5
}
