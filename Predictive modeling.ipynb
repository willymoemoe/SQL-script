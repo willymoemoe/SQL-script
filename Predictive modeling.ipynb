{
 "cells": [
  {
   "cell_type": "code",
   "execution_count": null,
   "id": "a196448b-5fc0-41cb-9d3e-69eace28eeeb",
   "metadata": {},
   "outputs": [],
   "source": [
    "import pandas as pd\n",
    "from sklearn.model_selection import train_test_split\n",
    "from sklearn.preprocessing import StandardScaler, OneHotEncoder\n",
    "from sklearn.compose import make_column_transformer\n",
    "from sklearn.pipeline import make_pipeline\n",
    "from sklearn.linear_model import LinearRegression\n",
    "from sklearn.impute import SimpleImputer"
   ]
  },
  {
   "cell_type": "code",
   "execution_count": null,
   "id": "874d1586-8b21-4e81-bee0-37ac5ef3f5bc",
   "metadata": {},
   "outputs": [],
   "source": [
    "\n",
    "# Load the dataset\n",
    "data = pd.read_csv('medical_clean.csv')"
   ]
  },
  {
   "cell_type": "code",
   "execution_count": null,
   "id": "8524d7dc-6160-4c4e-ad74-90d8a76ed9f1",
   "metadata": {},
   "outputs": [],
   "source": [
    "# Identify numerical and categorical columns\n",
    "numerical_columns = ['Lat', 'Lng', 'Population', 'Children', 'Age', 'Income', 'VitD_levels', 'Doc_visits', 'Full_meals_eaten', 'vitD_supp', 'Initial_days', 'Additional_charges', 'Item1', 'Item2', 'Item3', 'Item4', 'Item5', 'Item6', 'Item7', 'Item8']\n",
    "categorical_columns = ['City', 'State', 'County', 'Area', 'TimeZone', 'Job', 'Marital', 'Gender', 'ReAdmis', 'Initial_admin', 'HighBlood', 'Stroke', 'Complication_risk', 'Overweight', 'Arthritis', 'Diabetes', 'Hyperlipidemia', 'BackPain', 'Anxiety', 'Allergic_rhinitis', 'Reflux_esophagitis', 'Asthma', 'Services']"
   ]
  },
  {
   "cell_type": "code",
   "execution_count": null,
   "id": "b6007817-171e-4079-a292-aaa111afafae",
   "metadata": {},
   "outputs": [],
   "source": [
    "# Separate predictor variables (X) and the target variable (y)\n",
    "X = data.drop('TotalCharge', axis=1)\n",
    "y = data['TotalCharge']"
   ]
  },
  {
   "cell_type": "code",
   "execution_count": null,
   "id": "4f97d539-1250-41c9-86a9-493e35661b69",
   "metadata": {},
   "outputs": [],
   "source": [
    "# Define a column transformer\n",
    "preprocessor = make_column_transformer(\n",
    "    (StandardScaler(), numerical_columns),\n",
    "    (OneHotEncoder(handle_unknown='ignore'), categorical_columns)\n",
    ")"
   ]
  },
  {
   "cell_type": "code",
   "execution_count": null,
   "id": "b396813e-398d-4ff6-a46b-77e2328eeb52",
   "metadata": {},
   "outputs": [],
   "source": [
    "# Prepare the dataset using the preprocessor\n",
    "X_prepared = preprocessor.fit_transform(X)"
   ]
  },
  {
   "cell_type": "code",
   "execution_count": null,
   "id": "e6110141-713c-4783-93f1-69207f547f51",
   "metadata": {},
   "outputs": [],
   "source": [
    "# Convert the transformed data into a DataFrame\n",
    "X_prepared_df = pd.DataFrame.sparse.from_spmatrix(X_prepared)"
   ]
  },
  {
   "cell_type": "code",
   "execution_count": null,
   "id": "f15eddb0-1e20-419b-a38e-0890959340d9",
   "metadata": {},
   "outputs": [],
   "source": [
    "# Create column names for the new DataFrame\n",
    "numerical_column_names = numerical_columns\n",
    "categorical_column_names = preprocessor.named_transformers_['onehotencoder'].get_feature_names_out(categorical_columns)"
   ]
  },
  {
   "cell_type": "code",
   "execution_count": null,
   "id": "9990d17e-c300-4274-ba0e-a034b5e72169",
   "metadata": {},
   "outputs": [],
   "source": [
    "# Combine the column names\n",
    "column_names = numerical_column_names + categorical_column_names.tolist()"
   ]
  },
  {
   "cell_type": "code",
   "execution_count": null,
   "id": "b34c4f33-047b-4e60-80f9-eafa093b8f17",
   "metadata": {},
   "outputs": [],
   "source": [
    "# Assign the column names to the DataFrame\n",
    "X_prepared_df.columns = column_names"
   ]
  },
  {
   "cell_type": "code",
   "execution_count": null,
   "id": "ee404310-d9cd-4e72-8ee2-8d7d0b91cf5f",
   "metadata": {},
   "outputs": [],
   "source": [
    "# Add the 'TotalCharge' column\n",
    "X_prepared_df['TotalCharge'] = y.values\n"
   ]
  },
  {
   "cell_type": "code",
   "execution_count": null,
   "id": "2bd6082e-8487-4ff5-82ce-9a808b6ec0cb",
   "metadata": {},
   "outputs": [],
   "source": [
    "# Save the prepared data to a new CSV file\n",
    "X_prepared_df.to_csv('medical_prepared.csv', index=False)\n"
   ]
  },
  {
   "cell_type": "code",
   "execution_count": null,
   "id": "c2bce218-9a2a-457b-8dfa-38f4e06657f1",
   "metadata": {},
   "outputs": [],
   "source": [
    "import pandas as pd\n",
    "import seaborn as sns\n",
    "import matplotlib.pyplot as plt"
   ]
  },
  {
   "cell_type": "code",
   "execution_count": null,
   "id": "c7591753-7993-41dd-8eeb-a2c8bc9fc02f",
   "metadata": {},
   "outputs": [],
   "source": [
    "# Load the cleaned data set\n",
    "data = pd.read_csv('medical_prepared.csv')"
   ]
  },
  {
   "cell_type": "code",
   "execution_count": null,
   "id": "a126f71c-0d81-4616-b76f-a93e23dec445",
   "metadata": {},
   "outputs": [],
   "source": [
    "# Univariate histograms\n",
    "for col in data.columns:\n",
    "    sns.histplot(data[col], kde=True)\n",
    "    plt.title(f'{col} Distribution')\n",
    "    plt.show()"
   ]
  },
  {
   "cell_type": "code",
   "execution_count": null,
   "id": "1afbe38f-89a2-4803-8879-7a27c36d463c",
   "metadata": {},
   "outputs": [],
   "source": [
    "# Bivariate scatter plots\n",
    "for col in data.columns:\n",
    "    sns.scatterplot(data=data, x=col, y='TotalCharge')\n",
    "    plt.title(f'{col} vs. TotalCharge')\n",
    "    plt.show()"
   ]
  },
  {
   "cell_type": "code",
   "execution_count": null,
   "id": "9b4a0e30-40d1-4cb3-8ae2-57cdd2cf18b2",
   "metadata": {},
   "outputs": [],
   "source": [
    "import statsmodels.api as sm\n",
    "\n",
    "# Create dummy variables for categorical predictors\n",
    "X_cat = pd.get_dummies(X[categorical_predictors], drop_first=True)"
   ]
  },
  {
   "cell_type": "code",
   "execution_count": null,
   "id": "43fb3272-7dd2-4de5-9106-64c01a263f74",
   "metadata": {},
   "outputs": [],
   "source": [
    "# Combine continuous predictors with dummy variables\n",
    "X_all = pd.concat([X[continuous_predictors], X_cat], axis=1)"
   ]
  },
  {
   "cell_type": "code",
   "execution_count": null,
   "id": "577a4da4-7a2e-4fae-90a2-2c105595f78b",
   "metadata": {},
   "outputs": [],
   "source": [
    "# Add constant to the predictor variables\n",
    "X_all = sm.add_constant(X_all)"
   ]
  },
  {
   "cell_type": "code",
   "execution_count": null,
   "id": "d1ebb764-29e9-425d-a54e-6a9a4abcba99",
   "metadata": {},
   "outputs": [],
   "source": [
    "# Fit multiple linear regression model\n",
    "initial_model = sm.OLS(y, X_all).fit()"
   ]
  },
  {
   "cell_type": "code",
   "execution_count": null,
   "id": "d27e1a29-996a-44f1-b0cb-1ea9a6e3e0db",
   "metadata": {},
   "outputs": [],
   "source": [
    "# Print summary of the model\n",
    "print(initial_model.summary())"
   ]
  },
  {
   "cell_type": "code",
   "execution_count": null,
   "id": "f9eb8742-db1a-4b81-95ba-2b1ef6e5da36",
   "metadata": {},
   "outputs": [],
   "source": [
    "import statsmodels.api as sm\n",
    "\n",
    "# Create dummy variables for categorical predictors\n",
    "X_cat = pd.get_dummies(X[categorical_predictors], drop_first=True)\n",
    "\n",
    "# Combine continuous predictors with dummy variables\n",
    "X_all = pd.concat([X[continuous_predictors], X_cat], axis=1)\n",
    "\n",
    "# Add constant to the predictor variables\n",
    "X_all = sm.add_constant(X_all)\n",
    "\n",
    "# Fit multiple linear regression model\n",
    "model = sm.OLS(y, X_all).fit()\n",
    "\n",
    "# Print summary of the model\n",
    "print(model.summary())"
   ]
  },
  {
   "cell_type": "code",
   "execution_count": null,
   "id": "a27fbb2f-da95-4cc1-a742-03063fa8c18c",
   "metadata": {},
   "outputs": [],
   "source": [
    "import pandas as pd\n",
    "import numpy as np\n",
    "from sklearn.model_selection import train_test_split\n",
    "from sklearn.linear_model import LinearRegression\n",
    "from sklearn.compose import make_column_transformer\n",
    "from sklearn.preprocessing import StandardScaler, OneHotEncoder\n",
    "from sklearn.pipeline import make_pipeline\n",
    "from sklearn.metrics import r2_score, mean_squared_error\n",
    "\n",
    "# Load the cleaned dataset\n",
    "df = pd.read_csv('medical_clean.csv')\n",
    "\n",
    "# Identify the predictor variables (X) and target variable (y)\n",
    "X = df.drop('TotalCharge', axis=1)\n",
    "y = df['TotalCharge']\n",
    "\n",
    "# Split the dataset into training and testing sets\n",
    "X_train, X_test, y_train, y_test = train_test_split(X, y, test_size=0.2, random_state=42)\n",
    "\n",
    "# Define the categorical and numerical column transformers\n",
    "categorical_columns = ['City', 'State', 'County', 'Area', 'TimeZone', 'Job', 'Marital', 'Gender', 'ReAdmis', 'Initial_admin', 'HighBlood', 'Stroke', 'Complication_risk', 'Overweight', 'Arthritis', 'Diabetes', 'Hyperlipidemia', 'BackPain', 'Anxiety', 'Allergic_rhinitis', 'Reflux_esophagitis', 'Asthma', 'Services']\n",
    "numerical_columns = ['Lat', 'Lng', 'Population', 'Children', 'Age', 'Income', 'VitD_levels', 'Doc_visits', 'Full_meals_eaten', 'vitD_supp', 'Initial_days', 'Additional_charges', 'Item1', 'Item2', 'Item3', 'Item4', 'Item5', 'Item6', 'Item7', 'Item8']\n",
    "\n",
    "categorical_transformer = make_pipeline(OneHotEncoder(handle_unknown='ignore'))\n",
    "numerical_transformer = make_pipeline(StandardScaler())\n",
    "\n",
    "# Define the column transformer\n",
    "preprocessor = make_column_transformer(\n",
    "    (categorical_transformer, categorical_columns),\n",
    "    (numerical_transformer, numerical_columns),\n",
    ")\n",
    "\n",
    "# Create the initial multiple regression model\n",
    "initial_model = make_pipeline(preprocessor, LinearRegression())\n",
    "initial_model.fit(X_train, y_train)\n",
    "\n",
    "# Evaluate the initial model on the testing set\n",
    "y_pred = initial_model.predict(X_test)\n",
    "initial_r2 = r2_score(y_test, y_pred)\n",
    "initial_rmse = np.sqrt(mean_squared_error(y_test, y_pred))\n",
    "\n",
    "# Create the reduced multiple regression model\n",
    "reduced_columns = ['Population', 'Age', 'Income', 'Doc_visits', 'Initial_days', 'Item1', 'Item5', 'Item6', 'Item7', 'Item8', 'Area', 'Job', 'Marital', 'Gender', 'ReAdmis', 'HighBlood', 'Stroke', 'Complication_risk', 'Overweight', 'Arthritis', 'Diabetes', 'Hyperlipidemia', 'BackPain', 'Anxiety', 'Allergic_rhinitis', 'Reflux_esophagitis', 'Asthma', 'Services']\n",
    "\n",
    "reduced_categorical_columns = [col for col in categorical_columns if col in reduced_columns]\n",
    "reduced_numerical_columns = [col for col in numerical_columns if col in reduced_columns]\n",
    "\n",
    "reduced_categorical_transformer = make_pipeline(OneHotEncoder(handle_unknown='ignore'))\n",
    "reduced_numerical_transformer = make_pipeline(StandardScaler())\n",
    "\n",
    "reduced_preprocessor = make_column_transformer(\n",
    "    (reduced_categorical_transformer, reduced_categorical_columns),\n",
    "    (reduced_numerical_transformer, reduced_numerical_columns),\n",
    ")\n",
    "\n",
    "reduced_model = make_pipeline(reduced_preprocessor, LinearRegression())\n",
    "reduced_model.fit(X_train[\n"
   ]
  },
  {
   "cell_type": "code",
   "execution_count": null,
   "id": "7c08d7b9-48c8-4bca-ae31-a6d98cee7556",
   "metadata": {},
   "outputs": [],
   "source": []
  },
  {
   "cell_type": "code",
   "execution_count": 2,
   "id": "8cb8cc42-bb19-43d5-9b3e-cc09ae8a6de9",
   "metadata": {},
   "outputs": [],
   "source": [
    "import pandas as pd"
   ]
  },
  {
   "cell_type": "code",
   "execution_count": 3,
   "id": "00b2196b-89a1-47e7-af1c-f985a1b8ca75",
   "metadata": {},
   "outputs": [],
   "source": [
    "# Load the cleaned dataset\n",
    "data = pd.read_csv('medical_clean.csv')"
   ]
  },
  {
   "cell_type": "code",
   "execution_count": 4,
   "id": "2aa40617-2906-4cb8-8f51-6473739798cb",
   "metadata": {},
   "outputs": [],
   "source": [
    "# Identify numerical and categorical columns\n",
    "numerical_columns = ['Lat', 'Lng', 'Population', 'Children', 'Age', 'Income', 'VitD_levels', 'Doc_visits', 'Full_meals_eaten', 'vitD_supp', 'Initial_days', 'Additional_charges', 'Item1', 'Item2', 'Item3', 'Item4', 'Item5', 'Item6', 'Item7', 'Item8']\n",
    "categorical_columns = ['City', 'State', 'County', 'Area', 'TimeZone', 'Job', 'Marital', 'Gender', 'ReAdmis', 'Initial_admin', 'HighBlood', 'Stroke', 'Complication_risk', 'Overweight', 'Arthritis', 'Diabetes', 'Hyperlipidemia', 'BackPain', 'Anxiety', 'Allergic_rhinitis', 'Reflux_esophagitis', 'Asthma', 'Services']"
   ]
  },
  {
   "cell_type": "code",
   "execution_count": 5,
   "id": "26ab56f5-1b11-48d0-89d7-873a10b988a4",
   "metadata": {},
   "outputs": [
    {
     "name": "stdout",
     "output_type": "stream",
     "text": [
      "Summary statistics for numerical columns:\n",
      "                Lat           Lng     Population      Children           Age  \\\n",
      "count  10000.000000  10000.000000   10000.000000  10000.000000  10000.000000   \n",
      "mean      38.751099    -91.243080    9965.253800      2.097200     53.511700   \n",
      "std        5.403085     15.205998   14824.758614      2.163659     20.638538   \n",
      "min       17.967190   -174.209700       0.000000      0.000000     18.000000   \n",
      "25%       35.255120    -97.352982     694.750000      0.000000     36.000000   \n",
      "50%       39.419355    -88.397230    2769.000000      1.000000     53.000000   \n",
      "75%       42.044175    -80.438050   13945.000000      3.000000     71.000000   \n",
      "max       70.560990    -65.290170  122814.000000     10.000000     89.000000   \n",
      "\n",
      "              Income   VitD_levels    Doc_visits  Full_meals_eaten  \\\n",
      "count   10000.000000  10000.000000  10000.000000      10000.000000   \n",
      "mean    40490.495160     17.964262      5.012200          1.001400   \n",
      "std     28521.153293      2.017231      1.045734          1.008117   \n",
      "min       154.080000      9.806483      1.000000          0.000000   \n",
      "25%     19598.775000     16.626439      4.000000          0.000000   \n",
      "50%     33768.420000     17.951122      5.000000          1.000000   \n",
      "75%     54296.402500     19.347963      6.000000          2.000000   \n",
      "max    207249.100000     26.394449      9.000000          7.000000   \n",
      "\n",
      "          vitD_supp  Initial_days  Additional_charges         Item1  \\\n",
      "count  10000.000000  10000.000000        10000.000000  10000.000000   \n",
      "mean       0.398900     34.455299        12934.528587      3.518800   \n",
      "std        0.628505     26.309341         6542.601544      1.031966   \n",
      "min        0.000000      1.001981         3125.703000      1.000000   \n",
      "25%        0.000000      7.896215         7986.487755      3.000000   \n",
      "50%        0.000000     35.836244        11573.977735      4.000000   \n",
      "75%        1.000000     61.161020        15626.490000      4.000000   \n",
      "max        5.000000     71.981490        30566.070000      8.000000   \n",
      "\n",
      "              Item2         Item3         Item4         Item5         Item6  \\\n",
      "count  10000.000000  10000.000000  10000.000000  10000.000000  10000.000000   \n",
      "mean       3.506700      3.511100      3.515100      3.496900      3.522500   \n",
      "std        1.034825      1.032755      1.036282      1.030192      1.032376   \n",
      "min        1.000000      1.000000      1.000000      1.000000      1.000000   \n",
      "25%        3.000000      3.000000      3.000000      3.000000      3.000000   \n",
      "50%        3.000000      4.000000      4.000000      3.000000      4.000000   \n",
      "75%        4.000000      4.000000      4.000000      4.000000      4.000000   \n",
      "max        7.000000      8.000000      7.000000      7.000000      7.000000   \n",
      "\n",
      "              Item7         Item8  \n",
      "count  10000.000000  10000.000000  \n",
      "mean       3.494000      3.509700  \n",
      "std        1.021405      1.042312  \n",
      "min        1.000000      1.000000  \n",
      "25%        3.000000      3.000000  \n",
      "50%        3.000000      3.000000  \n",
      "75%        4.000000      4.000000  \n",
      "max        7.000000      7.000000  \n"
     ]
    }
   ],
   "source": [
    "# Summary statistics for numerical columns\n",
    "numerical_summary = data[numerical_columns].describe()\n",
    "print(\"Summary statistics for numerical columns:\")\n",
    "print(numerical_summary)"
   ]
  },
  {
   "cell_type": "code",
   "execution_count": 6,
   "id": "b7e43e17-d86b-48df-99b2-5f6c83014022",
   "metadata": {},
   "outputs": [
    {
     "name": "stdout",
     "output_type": "stream",
     "text": [
      "\n",
      "Summary statistics for categorical columns:\n",
      "\n",
      "City value counts:\n",
      "Houston             36\n",
      "San Antonio         26\n",
      "Springfield         22\n",
      "New York            21\n",
      "Miami               21\n",
      "                    ..\n",
      "Coyote               1\n",
      "Tiline               1\n",
      "Monon                1\n",
      "Sullivans Island     1\n",
      "Coraopolis           1\n",
      "Name: City, Length: 6072, dtype: int64\n",
      "\n",
      "State value counts:\n",
      "TX    553\n",
      "CA    550\n",
      "PA    547\n",
      "NY    514\n",
      "IL    442\n",
      "OH    383\n",
      "MO    328\n",
      "FL    304\n",
      "VA    287\n",
      "IA    276\n",
      "MI    273\n",
      "MN    267\n",
      "NC    254\n",
      "GA    247\n",
      "KS    220\n",
      "WI    214\n",
      "KY    210\n",
      "OK    207\n",
      "WV    207\n",
      "IN    195\n",
      "AL    194\n",
      "TN    194\n",
      "WA    191\n",
      "AR    190\n",
      "NE    185\n",
      "CO    179\n",
      "NJ    176\n",
      "LA    173\n",
      "MA    149\n",
      "MS    134\n",
      "MD    131\n",
      "SC    128\n",
      "SD    123\n",
      "ME    122\n",
      "OR    122\n",
      "MT    112\n",
      "NM    110\n",
      "ID    109\n",
      "ND    108\n",
      "AZ    108\n",
      "CT     80\n",
      "NH     79\n",
      "UT     72\n",
      "AK     70\n",
      "VT     60\n",
      "NV     51\n",
      "WY     51\n",
      "PR     43\n",
      "HI     34\n",
      "DE     17\n",
      "RI     14\n",
      "DC     13\n",
      "Name: State, dtype: int64\n",
      "\n",
      "County value counts:\n",
      "Jefferson      118\n",
      "Washington     100\n",
      "Franklin        93\n",
      "Los Angeles     88\n",
      "Montgomery      80\n",
      "              ... \n",
      "Jenkins          1\n",
      "Sully            1\n",
      "Panola           1\n",
      "Kandiyohi        1\n",
      "Sterling         1\n",
      "Name: County, Length: 1607, dtype: int64\n",
      "\n",
      "Area value counts:\n",
      "Rural       3369\n",
      "Suburban    3328\n",
      "Urban       3303\n",
      "Name: Area, dtype: int64\n",
      "\n",
      "TimeZone value counts:\n",
      "America/New_York                  3889\n",
      "America/Chicago                   3771\n",
      "America/Los_Angeles                937\n",
      "America/Denver                     612\n",
      "America/Detroit                    262\n",
      "America/Indiana/Indianapolis       151\n",
      "America/Phoenix                    100\n",
      "America/Boise                       86\n",
      "America/Anchorage                   50\n",
      "America/Puerto_Rico                 43\n",
      "Pacific/Honolulu                    34\n",
      "America/Menominee                   14\n",
      "America/Nome                        12\n",
      "America/Indiana/Vincennes            8\n",
      "America/Kentucky/Louisville          6\n",
      "America/Sitka                        6\n",
      "America/Toronto                      5\n",
      "America/Indiana/Marengo              3\n",
      "America/Indiana/Tell_City            3\n",
      "America/North_Dakota/Beulah          2\n",
      "America/Yakutat                      1\n",
      "America/Indiana/Winamac              1\n",
      "America/Indiana/Knox                 1\n",
      "America/North_Dakota/New_Salem       1\n",
      "America/Indiana/Vevay                1\n",
      "America/Adak                         1\n",
      "Name: TimeZone, dtype: int64\n",
      "\n",
      "Job value counts:\n",
      "Outdoor activities/education manager     29\n",
      "Exhibition designer                      27\n",
      "Theatre director                         27\n",
      "Scientist, audiological                  26\n",
      "Toxicologist                             25\n",
      "                                         ..\n",
      "Government social research officer        6\n",
      "Phytotherapist                            6\n",
      "Engineer, control and instrumentation     6\n",
      "Public relations account executive        6\n",
      "Licensed conveyancer                      6\n",
      "Name: Job, Length: 639, dtype: int64\n",
      "\n",
      "Marital value counts:\n",
      "Widowed          2045\n",
      "Married          2023\n",
      "Separated        1987\n",
      "Never Married    1984\n",
      "Divorced         1961\n",
      "Name: Marital, dtype: int64\n",
      "\n",
      "Gender value counts:\n",
      "Female       5018\n",
      "Male         4768\n",
      "Nonbinary     214\n",
      "Name: Gender, dtype: int64\n",
      "\n",
      "ReAdmis value counts:\n",
      "No     6331\n",
      "Yes    3669\n",
      "Name: ReAdmis, dtype: int64\n",
      "\n",
      "Initial_admin value counts:\n",
      "Emergency Admission      5060\n",
      "Elective Admission       2504\n",
      "Observation Admission    2436\n",
      "Name: Initial_admin, dtype: int64\n",
      "\n",
      "HighBlood value counts:\n",
      "No     5910\n",
      "Yes    4090\n",
      "Name: HighBlood, dtype: int64\n",
      "\n",
      "Stroke value counts:\n",
      "No     8007\n",
      "Yes    1993\n",
      "Name: Stroke, dtype: int64\n",
      "\n",
      "Complication_risk value counts:\n",
      "Medium    4517\n",
      "High      3358\n",
      "Low       2125\n",
      "Name: Complication_risk, dtype: int64\n",
      "\n",
      "Overweight value counts:\n",
      "Yes    7094\n",
      "No     2906\n",
      "Name: Overweight, dtype: int64\n",
      "\n",
      "Arthritis value counts:\n",
      "No     6426\n",
      "Yes    3574\n",
      "Name: Arthritis, dtype: int64\n",
      "\n",
      "Diabetes value counts:\n",
      "No     7262\n",
      "Yes    2738\n",
      "Name: Diabetes, dtype: int64\n",
      "\n",
      "Hyperlipidemia value counts:\n",
      "No     6628\n",
      "Yes    3372\n",
      "Name: Hyperlipidemia, dtype: int64\n",
      "\n",
      "BackPain value counts:\n",
      "No     5886\n",
      "Yes    4114\n",
      "Name: BackPain, dtype: int64\n",
      "\n",
      "Anxiety value counts:\n",
      "No     6785\n",
      "Yes    3215\n",
      "Name: Anxiety, dtype: int64\n",
      "\n",
      "Allergic_rhinitis value counts:\n",
      "No     6059\n",
      "Yes    3941\n",
      "Name: Allergic_rhinitis, dtype: int64\n",
      "\n",
      "Reflux_esophagitis value counts:\n",
      "No     5865\n",
      "Yes    4135\n",
      "Name: Reflux_esophagitis, dtype: int64\n",
      "\n",
      "Asthma value counts:\n",
      "No     7107\n",
      "Yes    2893\n",
      "Name: Asthma, dtype: int64\n",
      "\n",
      "Services value counts:\n",
      "Blood Work     5265\n",
      "Intravenous    3130\n",
      "CT Scan        1225\n",
      "MRI             380\n",
      "Name: Services, dtype: int64\n"
     ]
    }
   ],
   "source": [
    "# Summary statistics for categorical columns\n",
    "print(\"\\nSummary statistics for categorical columns:\")\n",
    "for col in categorical_columns:\n",
    "    print(f\"\\n{col} value counts:\")\n",
    "    print(data[col].value_counts())"
   ]
  },
  {
   "cell_type": "code",
   "execution_count": null,
   "id": "371096ee-460d-4bba-9536-f674d3a6b241",
   "metadata": {},
   "outputs": [],
   "source": []
  },
  {
   "cell_type": "code",
   "execution_count": 1,
   "id": "54d87191-946f-42e0-9d14-9576d011b360",
   "metadata": {},
   "outputs": [],
   "source": [
    "import pandas as pd\n",
    "import numpy as np\n",
    "from sklearn.model_selection import train_test_split\n",
    "from sklearn.compose import ColumnTransformer\n",
    "from sklearn.pipeline import Pipeline\n",
    "from sklearn.preprocessing import StandardScaler, OneHotEncoder\n",
    "from sklearn.linear_model import Ridge\n",
    "from sklearn.metrics import mean_squared_error, r2_score"
   ]
  },
  {
   "cell_type": "code",
   "execution_count": 2,
   "id": "5f500bf5-c9d0-41a1-bd7c-4b612c797e18",
   "metadata": {},
   "outputs": [],
   "source": [
    "# Load the dataset\n",
    "data = pd.read_csv('medical_clean.csv')"
   ]
  },
  {
   "cell_type": "code",
   "execution_count": 3,
   "id": "7083120e-08b7-4bee-9805-df1a6b004d54",
   "metadata": {},
   "outputs": [],
   "source": [
    "# Define the target variable and the feature matrix\n",
    "target = 'TotalCharge'\n",
    "X = data.drop(columns=[target])\n",
    "y = data[target]"
   ]
  },
  {
   "cell_type": "code",
   "execution_count": 4,
   "id": "6512eea3-46ea-40e3-acc7-9a2a35ab4b6f",
   "metadata": {},
   "outputs": [],
   "source": [
    "# Split the data into training and testing sets\n",
    "X_train, X_test, y_train, y_test = train_test_split(X, y, test_size=0.2, random_state=42)\n"
   ]
  },
  {
   "cell_type": "code",
   "execution_count": 5,
   "id": "1d4531b8-2e39-48ea-975a-bf41e0446f31",
   "metadata": {},
   "outputs": [],
   "source": [
    "# Identify numerical and categorical columns\n",
    "numerical_columns = [column_name for column_name in X.columns if X[column_name].dtype in [np.float64, np.int64]]\n",
    "categorical_columns = [column_name for column_name in X.columns if column_name not in numerical_columns]\n"
   ]
  },
  {
   "cell_type": "code",
   "execution_count": 6,
   "id": "480d6283-f305-463d-bc38-eafaafadb117",
   "metadata": {},
   "outputs": [],
   "source": [
    "# Create transformers for numerical and categorical features\n",
    "numerical_transformer = StandardScaler()\n",
    "categorical_transformer = OneHotEncoder(handle_unknown='ignore')\n"
   ]
  },
  {
   "cell_type": "code",
   "execution_count": 7,
   "id": "b42f2ad9-24bd-4e3e-ad47-972501939275",
   "metadata": {},
   "outputs": [],
   "source": [
    "# Create a preprocessor using ColumnTransformer\n",
    "preprocessor = ColumnTransformer(\n",
    "    transformers=[\n",
    "        ('num', numerical_transformer, numerical_columns),\n",
    "        ('cat', categorical_transformer, categorical_columns)\n",
    "    ])"
   ]
  },
  {
   "cell_type": "code",
   "execution_count": 8,
   "id": "8aa4cde8-85e9-417f-b3d4-5efe98f34a1e",
   "metadata": {},
   "outputs": [],
   "source": [
    "# Fit and transform the training data\n",
    "X_train_transformed = preprocessor.fit_transform(X_train)\n",
    "\n",
    "# Transform the testing data\n",
    "X_test_transformed = preprocessor.transform(X_test)\n",
    "\n",
    "# Create a Ridge regression model\n",
    "ridge_model = Ridge(alpha=1.0, random_state=42)"
   ]
  },
  {
   "cell_type": "code",
   "execution_count": 9,
   "id": "0d694e52-b58d-4139-8435-ed97ddc75214",
   "metadata": {},
   "outputs": [
    {
     "data": {
      "text/plain": [
       "Ridge(random_state=42)"
      ]
     },
     "execution_count": 9,
     "metadata": {},
     "output_type": "execute_result"
    }
   ],
   "source": [
    "# Fit the Ridge regression model to the training data\n",
    "ridge_model.fit(X_train_transformed, y_train)"
   ]
  },
  {
   "cell_type": "code",
   "execution_count": 10,
   "id": "f2a1d637-2df6-4fce-9982-74151aa840e4",
   "metadata": {},
   "outputs": [],
   "source": [
    "# Make predictions using the Ridge regression model\n",
    "y_pred_train = ridge_model.predict(X_train_transformed)\n",
    "y_pred_test = ridge_model.predict(X_test_transformed)\n"
   ]
  },
  {
   "cell_type": "code",
   "execution_count": 11,
   "id": "67bdc715-783d-490b-8eba-c2f2bd60ef53",
   "metadata": {},
   "outputs": [],
   "source": [
    "# Calculate the mean squared error (MSE) and R-squared (R2) for the Ridge regression model\n",
    "mse_train = mean_squared_error(y_train, y_pred_train)\n",
    "mse_test = mean_squared_error(y_test, y_pred_test)\n",
    "r2_train = r2_score(y_train, y_pred_train)\n",
    "r2_test = r2_score(y_test, y_pred_test)"
   ]
  },
  {
   "cell_type": "code",
   "execution_count": 12,
   "id": "c3175647-ce48-46f5-bbf1-2ae3c27e0176",
   "metadata": {},
   "outputs": [
    {
     "name": "stdout",
     "output_type": "stream",
     "text": [
      "Training set:\n",
      "MSE: 5.07\n",
      "R2: 1.00\n"
     ]
    }
   ],
   "source": [
    "print(\"Training set:\")\n",
    "print(f\"MSE: {mse_train:.2f}\")\n",
    "print(f\"R2: {r2_train:.2f}\")"
   ]
  },
  {
   "cell_type": "code",
   "execution_count": 13,
   "id": "dcb1dbe8-a15e-48d8-a0fa-c9e2db2a4c76",
   "metadata": {},
   "outputs": [
    {
     "name": "stdout",
     "output_type": "stream",
     "text": [
      "\n",
      "Test set:\n",
      "MSE: 22.96\n",
      "R2: 1.00\n"
     ]
    }
   ],
   "source": [
    "print(\"\\nTest set:\")\n",
    "print(f\"MSE: {mse_test:.2f}\")\n",
    "print(f\"R2: {r2_test:.2f}\")"
   ]
  },
  {
   "cell_type": "code",
   "execution_count": 14,
   "id": "432c2e90-393d-4af9-afd1-4af47a94b476",
   "metadata": {},
   "outputs": [],
   "source": [
    "# Calculate the residuals for the training and testing sets\n",
    "residuals_train = y_train - y_pred_train\n",
    "residuals_test = y_test - y_pred_test"
   ]
  },
  {
   "cell_type": "code",
   "execution_count": 15,
   "id": "16874aaa-2876-4252-8dec-1bacabaf035a",
   "metadata": {},
   "outputs": [],
   "source": [
    "# Create a DataFrame to store the actual and predicted values, as well as the residuals\n",
    "train_results = pd.DataFrame({'Actual': y_train, 'Predicted': y_pred_train, 'Residual': residuals_train})\n",
    "test_results = pd.DataFrame({'Actual': y_test, 'Predicted': y_pred_test, 'Residual': residuals_test})\n"
   ]
  },
  {
   "cell_type": "code",
   "execution_count": 16,
   "id": "61e9a25c-a23a-433e-815f-9b66f9d0ab8e",
   "metadata": {},
   "outputs": [
    {
     "name": "stdout",
     "output_type": "stream",
     "text": [
      "Training set results:\n",
      "           Actual    Predicted  Residual\n",
      "9254  7749.506000  7750.959775 -1.453775\n",
      "1561  3303.446900  3300.923577  2.523323\n",
      "1670  2330.569902  2333.591841 -3.021939\n",
      "6087  7980.623000  7979.775252  0.847748\n",
      "6669  7284.532000  7285.970774 -1.438774\n",
      "5933  8454.486000  8452.661964  1.824036\n",
      "8829  8261.154000  8264.964022 -3.810022\n",
      "7945  7821.753000  7823.926085 -2.173085\n",
      "3508  2751.985864  2752.208351 -0.222487\n",
      "2002  2561.944811  2561.334579  0.610232\n",
      "\n",
      "Test set results:\n",
      "           Actual    Predicted   Residual\n",
      "6252  6060.700000  6054.647343   6.052657\n",
      "4684  3255.814455  3262.606992  -6.792537\n",
      "1731  2844.703206  2846.164870  -1.461664\n",
      "4742  3133.944906  3137.131507  -3.186601\n",
      "4521  4125.009552  4124.506708   0.502844\n",
      "6340  6329.840000  6319.615464  10.224536\n",
      "576   3618.130693  3613.718978   4.411715\n",
      "5202  7442.355000  7438.111543   4.243457\n",
      "6363  7112.117000  7110.424327   1.692673\n",
      "439   3691.595666  3693.343793  -1.748127\n"
     ]
    }
   ],
   "source": [
    "# Display the results for the training and testing sets\n",
    "print(\"Training set results:\")\n",
    "print(train_results.head(10))\n",
    "print(\"\\nTest set results:\")\n",
    "print(test_results.head(10))"
   ]
  }
 ],
 "metadata": {
  "kernelspec": {
   "display_name": "anaconda-2022.05-py39",
   "language": "python",
   "name": "conda-env-anaconda-2022.05-py39-py"
  },
  "language_info": {
   "codemirror_mode": {
    "name": "ipython",
    "version": 3
   },
   "file_extension": ".py",
   "mimetype": "text/x-python",
   "name": "python",
   "nbconvert_exporter": "python",
   "pygments_lexer": "ipython3",
   "version": "3.9.12"
  }
 },
 "nbformat": 4,
 "nbformat_minor": 5
}
