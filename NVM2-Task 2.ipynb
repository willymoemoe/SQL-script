{
 "cells": [
  {
   "cell_type": "code",
   "execution_count": 44,
   "id": "ba77d3cd-cb63-4362-b8da-d8b650354576",
   "metadata": {},
   "outputs": [],
   "source": [
    "# Import necessary libraries\n",
    "import pandas as pd\n",
    "import numpy as np\n",
    "from sklearn.ensemble import RandomForestRegressor\n",
    "from sklearn.model_selection import train_test_split\n",
    "from sklearn.metrics import mean_squared_error\n",
    "from sklearn.preprocessing import LabelEncoder"
   ]
  },
  {
   "cell_type": "code",
   "execution_count": 45,
   "id": "11cef25c-9e0e-4b12-a2b4-855d91009873",
   "metadata": {},
   "outputs": [],
   "source": [
    "# Load dataset\n",
    "data = pd.read_csv('medical_clean.csv')"
   ]
  },
  {
   "cell_type": "code",
   "execution_count": 46,
   "id": "c61f0541-aa02-4594-8ea0-b745823a6585",
   "metadata": {},
   "outputs": [],
   "source": [
    "# Make sure the 'Initial_days' column exists in the dataset\n",
    "if 'Initial_days' not in data.columns:\n",
    "    print(\"The 'Initial_days' column is missing in the dataset. Please check the dataset.\")\n",
    "    exit()"
   ]
  },
  {
   "cell_type": "code",
   "execution_count": 47,
   "id": "6e91fc5a-d6d3-4c79-8f36-3ffcd0fe3929",
   "metadata": {},
   "outputs": [],
   "source": [
    "# Handle categorical variables using LabelEncoder\n",
    "encoder = LabelEncoder()\n",
    "categorical_columns = ['City', 'State', 'County', 'Area', 'TimeZone', 'Job', 'Marital', 'Gender', 'ReAdmis']\n",
    "for column in categorical_columns:\n",
    "    data[column] = encoder.fit_transform(data[column].astype(str))"
   ]
  },
  {
   "cell_type": "code",
   "execution_count": 48,
   "id": "f08bbc4a-a678-4940-8f72-185b8e9138bc",
   "metadata": {},
   "outputs": [],
   "source": [
    "# Drop non-numeric columns\n",
    "numeric_columns = data.select_dtypes(include=np.number).columns\n",
    "data = data[numeric_columns]"
   ]
  },
  {
   "cell_type": "code",
   "execution_count": 49,
   "id": "0a22094b-8e32-4c7a-8150-e51f965a5626",
   "metadata": {},
   "outputs": [],
   "source": [
    "# Define the target variable and features\n",
    "y = data['Initial_days']\n",
    "X = data.drop(columns=['Initial_days'])"
   ]
  },
  {
   "cell_type": "code",
   "execution_count": 50,
   "id": "da15e2d4-954b-471d-85a9-7260a4e2fabe",
   "metadata": {},
   "outputs": [
    {
     "name": "stdout",
     "output_type": "stream",
     "text": [
      "Categorical variables encoded:\n",
      "    City  State  County  Area  TimeZone  Job  Marital  Gender  ReAdmis\n",
      "0   752      1    1580     1        19  421        0       1        0\n",
      "1  2483     51    1289     2        19   29        1       0        0\n",
      "2  4471     37    1554     1        19  633        4       0        0\n",
      "3  3093     16     574     1        19   87        1       1        0\n",
      "4  5351     41    1348     0         8  207        4       0        0\n",
      "Data with only numeric columns:\n",
      "    CaseOrder  City  State  County    Zip       Lat       Lng  Population  \\\n",
      "0          1   752      1    1580  35621  34.34960 -86.72508        2951   \n",
      "1          2  2483     51    1289  32446  30.84513 -85.22907       11303   \n",
      "2          3  4471     37    1554  57110  43.54321 -96.63772       17125   \n",
      "3          4  3093     16     574  56072  43.89744 -93.51479        2162   \n",
      "4          5  5351     41    1348  23181  37.59894 -76.88958        5287   \n",
      "\n",
      "   Area  TimeZone  ...  TotalCharge  Additional_charges  Item1  Item2  Item3  \\\n",
      "0     1        19  ...  3726.702860        17939.403420      3      3      2   \n",
      "1     2        19  ...  4193.190458        17612.998120      3      4      3   \n",
      "2     1        19  ...  2434.234222        17505.192460      2      4      4   \n",
      "3     1        19  ...  2127.830423        12993.437350      3      5      5   \n",
      "4     0         8  ...  2113.073274         3716.525786      2      1      3   \n",
      "\n",
      "   Item4  Item5  Item6  Item7  Item8  \n",
      "0      2      4      3      3      4  \n",
      "1      4      4      4      3      3  \n",
      "2      4      3      4      3      3  \n",
      "3      3      4      5      5      5  \n",
      "4      3      5      3      4      3  \n",
      "\n",
      "[5 rows x 32 columns]\n",
      "Target variable 'Initial_days':\n",
      " 0    10.585770\n",
      "1    15.129562\n",
      "2     4.772177\n",
      "3     1.714879\n",
      "4     1.254807\n",
      "Name: Initial_days, dtype: float64\n",
      "Feature matrix X:\n",
      "    CaseOrder  City  State  County    Zip       Lat       Lng  Population  \\\n",
      "0          1   752      1    1580  35621  34.34960 -86.72508        2951   \n",
      "1          2  2483     51    1289  32446  30.84513 -85.22907       11303   \n",
      "2          3  4471     37    1554  57110  43.54321 -96.63772       17125   \n",
      "3          4  3093     16     574  56072  43.89744 -93.51479        2162   \n",
      "4          5  5351     41    1348  23181  37.59894 -76.88958        5287   \n",
      "\n",
      "   Area  TimeZone  ...  TotalCharge  Additional_charges  Item1  Item2  Item3  \\\n",
      "0     1        19  ...  3726.702860        17939.403420      3      3      2   \n",
      "1     2        19  ...  4193.190458        17612.998120      3      4      3   \n",
      "2     1        19  ...  2434.234222        17505.192460      2      4      4   \n",
      "3     1        19  ...  2127.830423        12993.437350      3      5      5   \n",
      "4     0         8  ...  2113.073274         3716.525786      2      1      3   \n",
      "\n",
      "   Item4  Item5  Item6  Item7  Item8  \n",
      "0      2      4      3      3      4  \n",
      "1      4      4      4      3      3  \n",
      "2      4      3      4      3      3  \n",
      "3      3      4      5      5      5  \n",
      "4      3      5      3      4      3  \n",
      "\n",
      "[5 rows x 31 columns]\n"
     ]
    }
   ],
   "source": [
    "# Make sure the 'Initial_days' column exists in the dataset\n",
    "if 'Initial_days' not in data.columns:\n",
    "    print(\"The 'Initial_days' column is missing in the dataset. Please check the dataset.\")\n",
    "    exit()\n",
    "\n",
    "# Handle categorical variables using LabelEncoder\n",
    "encoder = LabelEncoder()\n",
    "categorical_columns = ['City', 'State', 'County', 'Area', 'TimeZone', 'Job', 'Marital', 'Gender', 'ReAdmis']\n",
    "for column in categorical_columns:\n",
    "    data[column] = encoder.fit_transform(data[column].astype(str))\n",
    "\n",
    "print(\"Categorical variables encoded:\\n\", data[categorical_columns].head())\n",
    "\n",
    "# Drop non-numeric columns\n",
    "numeric_columns = data.select_dtypes(include=np.number).columns\n",
    "data = data[numeric_columns]\n",
    "\n",
    "print(\"Data with only numeric columns:\\n\", data.head())\n",
    "\n",
    "# Define the target variable and features\n",
    "y = data['Initial_days']\n",
    "X = data.drop(columns=['Initial_days'])\n",
    "\n",
    "print(\"Target variable 'Initial_days':\\n\", y.head())\n",
    "print(\"Feature matrix X:\\n\", X.head())"
   ]
  },
  {
   "cell_type": "code",
   "execution_count": 51,
   "id": "9f9e3547-772f-450c-9abd-18a237b21ec3",
   "metadata": {},
   "outputs": [],
   "source": [
    "# Split data into training and testing sets\n",
    "X_train, X_test, y_train, y_test = train_test_split(X, y, test_size=0.2, random_state=42)\n"
   ]
  },
  {
   "cell_type": "code",
   "execution_count": 52,
   "id": "c8eb72e4-e9f0-4888-920a-5d28cf34d888",
   "metadata": {},
   "outputs": [
    {
     "name": "stdout",
     "output_type": "stream",
     "text": [
      "X_train shape: (8000, 31)\n",
      "X_test shape: (2000, 31)\n",
      "y_train shape: (8000,)\n",
      "y_test shape: (2000,)\n"
     ]
    }
   ],
   "source": [
    "# Print the shapes of the training and testing sets\n",
    "print(\"X_train shape:\", X_train.shape)\n",
    "print(\"X_test shape:\", X_test.shape)\n",
    "print(\"y_train shape:\", y_train.shape)\n",
    "print(\"y_test shape:\", y_test.shape)"
   ]
  },
  {
   "cell_type": "code",
   "execution_count": 53,
   "id": "43d33a40-82db-4c7f-90bf-3069c1522caf",
   "metadata": {},
   "outputs": [
    {
     "name": "stdout",
     "output_type": "stream",
     "text": [
      "\n",
      "X_train first few rows:\n",
      "      CaseOrder  City  State  County    Zip       Lat       Lng  Population  \\\n",
      "9254       9255  5853     30    1091  73727  36.50569 -98.03713         203   \n",
      "1561       1562  4046     29     893  43805  40.39331 -81.97257          81   \n",
      "1670       1671  4910     30    1307  73460  34.28710 -96.66144        4609   \n",
      "6087       6088  1983     38    1364  37902  35.96375 -83.92024        2349   \n",
      "6669       6670  4208     36     247  29479  33.37990 -79.88696        6758   \n",
      "\n",
      "      Area  TimeZone  ...  TotalCharge  Additional_charges  Item1  Item2  \\\n",
      "9254     1        19  ...  7749.506000          7889.19000      4      3   \n",
      "1561     0         8  ...  3303.446900         18282.42091      5      6   \n",
      "1670     1        19  ...  2330.569902          9206.08193      4      4   \n",
      "6087     0         8  ...  7980.623000          9271.35300      5      6   \n",
      "6669     1         8  ...  7284.532000          4874.09400      2      2   \n",
      "\n",
      "      Item3  Item4  Item5  Item6  Item7  Item8  \n",
      "9254      3      3      4      4      3      3  \n",
      "1561      5      4      2      5      5      3  \n",
      "1670      2      4      2      4      4      5  \n",
      "6087      4      3      4      4      4      3  \n",
      "6669      2      2      4      3      4      3  \n",
      "\n",
      "[5 rows x 31 columns]\n"
     ]
    }
   ],
   "source": [
    "# Print the first few rows of the training and testing sets\n",
    "print(\"\\nX_train first few rows:\")\n",
    "print(X_train.head())"
   ]
  },
  {
   "cell_type": "code",
   "execution_count": 54,
   "id": "5e3eb764-8f90-478a-8323-f2b0d8957f8b",
   "metadata": {},
   "outputs": [
    {
     "name": "stdout",
     "output_type": "stream",
     "text": [
      "\n",
      "X_test first few rows:\n",
      "      CaseOrder  City  State  County    Zip       Lat        Lng  Population  \\\n",
      "6252       6253    45      2    1464  30628  34.02972  -83.21264        6874   \n",
      "4684       4685  5726     45    1356  80807  39.31882 -102.22605        5112   \n",
      "1731       1732  3304      8     242  66517  39.11263  -96.70688        1745   \n",
      "4742       4743  3759     28     430  11776  40.91361  -73.04636       24666   \n",
      "4521       4522  4579     11     643   1550  42.06039  -72.03377       16894   \n",
      "\n",
      "      Area  TimeZone  ...  TotalCharge  Additional_charges  Item1  Item2  \\\n",
      "6252     0         8  ...  6060.700000         11244.22000      3      2   \n",
      "4684     1        20  ...  3255.814455         18972.97875      4      3   \n",
      "1731     0        19  ...  2844.703206         24921.47443      1      2   \n",
      "4742     1         8  ...  3133.944906         24726.85707      4      3   \n",
      "4521     2         8  ...  4125.009552          9005.51169      4      4   \n",
      "\n",
      "      Item3  Item4  Item5  Item6  Item7  Item8  \n",
      "6252      3      2      5      3      3      3  \n",
      "4684      4      4      4      4      3      3  \n",
      "1731      2      4      4      1      3      1  \n",
      "4742      4      3      3      4      4      3  \n",
      "4521      4      3      6      4      3      5  \n",
      "\n",
      "[5 rows x 31 columns]\n"
     ]
    }
   ],
   "source": [
    "print(\"\\nX_test first few rows:\")\n",
    "print(X_test.head())"
   ]
  },
  {
   "cell_type": "code",
   "execution_count": 55,
   "id": "97427643-eba9-4f69-9169-a6ed0aa70b2f",
   "metadata": {},
   "outputs": [
    {
     "name": "stdout",
     "output_type": "stream",
     "text": [
      "\n",
      "y_train first few rows:\n",
      "9254    63.159110\n",
      "1561    15.569822\n",
      "1670     4.016331\n",
      "6087    63.776090\n",
      "6669    57.938180\n",
      "Name: Initial_days, dtype: float64\n"
     ]
    }
   ],
   "source": [
    "print(\"\\ny_train first few rows:\")\n",
    "print(y_train.head())"
   ]
  },
  {
   "cell_type": "code",
   "execution_count": 56,
   "id": "ac60acc1-8b34-4304-9681-7bb66e7becd1",
   "metadata": {},
   "outputs": [
    {
     "name": "stdout",
     "output_type": "stream",
     "text": [
      "\n",
      "y_test first few rows:\n",
      "6252    48.634250\n",
      "4684    12.062901\n",
      "1731     3.766619\n",
      "4742    12.612046\n",
      "4521    16.738161\n",
      "Name: Initial_days, dtype: float64\n"
     ]
    }
   ],
   "source": [
    "print(\"\\ny_test first few rows:\")\n",
    "print(y_test.head())"
   ]
  },
  {
   "cell_type": "code",
   "execution_count": 57,
   "id": "06401c2c-252f-4849-9347-b1f55142c393",
   "metadata": {},
   "outputs": [
    {
     "data": {
      "text/plain": [
       "RandomForestRegressor(random_state=42)"
      ]
     },
     "execution_count": 57,
     "metadata": {},
     "output_type": "execute_result"
    }
   ],
   "source": [
    "# Build and fit a random forests model\n",
    "rf_regressor = RandomForestRegressor(random_state=42)\n",
    "rf_regressor.fit(X_train, y_train)"
   ]
  },
  {
   "cell_type": "code",
   "execution_count": 58,
   "id": "abb5b69b-3db5-44e2-b08d-783eefa2202e",
   "metadata": {},
   "outputs": [],
   "source": [
    "# Make predictions on the test data\n",
    "y_pred = rf_regressor.predict(X_test)"
   ]
  },
  {
   "cell_type": "code",
   "execution_count": 59,
   "id": "c831803e-7b36-4612-ae07-ddb27f424d7b",
   "metadata": {},
   "outputs": [],
   "source": [
    "# Calculate the mean squared error (MSE)\n",
    "mse = mean_squared_error(y_test, y_pred)"
   ]
  },
  {
   "cell_type": "code",
   "execution_count": 60,
   "id": "fdd1d13a-7fcd-493d-948f-a7fbe1db20d1",
   "metadata": {},
   "outputs": [
    {
     "name": "stdout",
     "output_type": "stream",
     "text": [
      "Mean Squared Error (MSE): 10.72\n"
     ]
    }
   ],
   "source": [
    "# Print the mean squared error (MSE)\n",
    "print(f'Mean Squared Error (MSE): {mse:.2f}')"
   ]
  },
  {
   "cell_type": "code",
   "execution_count": 61,
   "id": "57d6dec7-03c9-4b6e-98e9-aed9f1b773bf",
   "metadata": {},
   "outputs": [],
   "source": [
    "# Save the cleaned and analyzed dataset to an Excel file\n",
    "data.to_excel(\"cleaned_random_forests_model.xlsx\", index=False)"
   ]
  },
  {
   "cell_type": "code",
   "execution_count": 62,
   "id": "0f2e199a-1e5b-47dc-81e1-a5c07dff0a49",
   "metadata": {},
   "outputs": [
    {
     "name": "stdout",
     "output_type": "stream",
     "text": [
      "('CaseOrder', 'City', 'State', 'County', 'Zip', 'Lat', 'Lng', 'Population', 'Area', 'TimeZone', 'Job', 'Children', 'Age', 'Income', 'Marital', 'Gender', 'ReAdmis', 'VitD_levels', 'Doc_visits', 'Full_meals_eaten', 'vitD_supp', 'Initial_days', 'TotalCharge', 'Additional_charges', 'Item1', 'Item2', 'Item3', 'Item4', 'Item5', 'Item6', 'Item7', 'Item8')\n",
      "(1, 752, 1, 1580, 35621, 34.3496, -86.72508, 2951, 1, 19, 421, 1, 53, 86575.93, 0, 1, 0, 19.1414657, 6, 0, 0, 10.58576971, 3726.70286, 17939.40342, 3, 3, 2, 2, 4, 3, 3, 4)\n",
      "(2, 2483, 51, 1289, 32446, 30.84513, -85.22907, 11303, 2, 19, 29, 3, 51, 46805.99, 1, 0, 0, 18.9403523, 4, 2, 1, 15.12956221, 4193.190458, 17612.99812, 3, 4, 3, 4, 4, 4, 3, 3)\n",
      "(3, 4471, 37, 1554, 57110, 43.54321, -96.63772, 17125, 1, 19, 633, 3, 53, 14370.14, 4, 0, 0, 18.05750734, 4, 1, 0, 4.772177208, 2434.234222, 17505.19246, 2, 4, 4, 4, 3, 4, 3, 3)\n",
      "(4, 3093, 16, 574, 56072, 43.89744, -93.51479, 2162, 1, 19, 87, 0, 78, 39741.49, 1, 1, 0, 16.57685793, 4, 1, 0, 1.714879175, 2127.830423, 12993.43735, 3, 5, 5, 3, 4, 5, 5, 5)\n"
     ]
    }
   ],
   "source": [
    "import openpyxl\n",
    "\n",
    "# Load the Excel file\n",
    "wb = openpyxl.load_workbook('cleaned_random_forests_model.xlsx')\n",
    "\n",
    "# Select the worksheet to read\n",
    "ws = wb.active\n",
    "\n",
    "# Print the first few rows of the worksheet\n",
    "for row in ws.iter_rows(min_row=1, max_row=5, values_only=True):\n",
    "    print(row)"
   ]
  },
  {
   "cell_type": "code",
   "execution_count": 64,
   "id": "fcad9785-932d-4e65-9cc8-1f59e941604f",
   "metadata": {},
   "outputs": [],
   "source": []
  },
  {
   "cell_type": "code",
   "execution_count": null,
   "id": "d412f330-affa-4c4f-9801-656145a4c5c4",
   "metadata": {},
   "outputs": [],
   "source": []
  },
  {
   "cell_type": "code",
   "execution_count": 10,
   "id": "6ce28c34-9953-4fb0-9797-2b73a2865ae3",
   "metadata": {},
   "outputs": [
    {
     "name": "stdout",
     "output_type": "stream",
     "text": [
      "Best hyperparameters: {'max_depth': 15, 'min_samples_leaf': 2, 'min_samples_split': 2, 'n_estimators': 150}\n",
      "Best accuracy: 0.9666356155876418\n"
     ]
    }
   ],
   "source": [
    "# Import necessary libraries\n",
    "from sklearn.ensemble import RandomForestClassifier\n",
    "from sklearn.model_selection import cross_val_score, GridSearchCV\n",
    "import openpyxl\n",
    "\n",
    "# Load the Excel file\n",
    "wb = openpyxl.load_workbook('cleaned_random_forests_model.xlsx')\n",
    "\n",
    "# Create random forest classifier\n",
    "rfc = RandomForestClassifier()\n",
    "\n",
    "# Define hyperparameter grid\n",
    "param_grid = {\n",
    "    'n_estimators': [50, 100, 150],\n",
    "    'max_depth': [5, 10, 15],\n",
    "    'min_samples_split': [2, 5, 10],\n",
    "    'min_samples_leaf': [1, 2, 4]\n",
    "}\n",
    "\n",
    "# Perform grid search with cross-validation\n",
    "grid_search = GridSearchCV(rfc, param_grid, cv=5)\n",
    "grid_search.fit(X, y)\n",
    "\n",
    "# Print results\n",
    "print('Best hyperparameters:', grid_search.best_params_)\n",
    "print('Best accuracy:', grid_search.best_score_)\n"
   ]
  },
  {
   "cell_type": "code",
   "execution_count": null,
   "id": "3d1eecad-6d0f-48c3-b4f7-9e820d387bed",
   "metadata": {},
   "outputs": [],
   "source": []
  }
 ],
 "metadata": {
  "kernelspec": {
   "display_name": "anaconda-2022.05-py39",
   "language": "python",
   "name": "conda-env-anaconda-2022.05-py39-py"
  },
  "language_info": {
   "codemirror_mode": {
    "name": "ipython",
    "version": 3
   },
   "file_extension": ".py",
   "mimetype": "text/x-python",
   "name": "python",
   "nbconvert_exporter": "python",
   "pygments_lexer": "ipython3",
   "version": "3.9.12"
  }
 },
 "nbformat": 4,
 "nbformat_minor": 5
}
